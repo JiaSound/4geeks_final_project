{
 "cells": [
  {
   "cell_type": "markdown",
   "id": "8901fe5d",
   "metadata": {},
   "source": [
    "# Final Project - US Tornadoes Prediciton Model\n",
    "- Source:\n",
    "- URL:\n",
    "- Date:\n",
    "- Objective: Create a TSML model that predicts a tornado magnitude in US"
   ]
  },
  {
   "cell_type": "markdown",
   "id": "59a1a272",
   "metadata": {},
   "source": [
    "## Introduction"
   ]
  },
  {
   "cell_type": "markdown",
   "id": "02bc2374",
   "metadata": {},
   "source": [
    "### 4. What are the types of Categories?  \n",
    "\n",
    "Tornadoes are categorized based on the Enhanced Fujita (EF) scale, which classifies them by estimated wind speeds and damage caused. These are the categories:\n",
    "- EF0: 65–85 mph (Light damage)\n",
    "- EF1: 86–110 mph (Moderate damage)\n",
    "- EF2: 111–135 mph (Considerable damage)\n",
    "- EF3: 136–165 mph (Severe damage)\n",
    "- EF4: 166–200 mph (Devastating damage)\n",
    "- EF5: >200 mph (Incredible damage)\n",
    "\n",
    "The EF scale replaced the F scale in 2007 because the F scale was too rough and inconsistent in estimating wind speeds based on damage."
   ]
  },
  {
   "cell_type": "markdown",
   "id": "27c9239d",
   "metadata": {},
   "source": [
    "### 5. What is the F Scale and the EF Scale?  \n",
    "\n",
    "F Scale (Fujita Scale):\n",
    "\n",
    "- Created in 1971 by Dr. Tetsuya Fujita.\n",
    "- Classified tornadoes from F0 to F5 based on wind speed estimates and observed damage.\n",
    "- It had limitations in accuracy, especially in matching wind speeds to real damage.\n",
    "\n",
    "EF Scale (Enhanced Fujita Scale):\n",
    "\n",
    "- Adopted in the U.S. in 2007.\n",
    "- A refinement of the original F Scale with better correlation between wind speeds and damage.\n",
    "- Introduced 28 damage indicators (e.g., types of buildings, trees) to assess damage more precisely."
   ]
  },
  {
   "cell_type": "markdown",
   "id": "7375cb7e",
   "metadata": {},
   "source": [
    "### 6. What are the economic effects?\n",
    "\n",
    "Tornadoes can cause billions of dollars in damages annually in the U.S. The economic impact includes:\n",
    "\n",
    "- Property damage: Homes, businesses, and infrastructure.\n",
    "- Agricultural loss: Destroyed crops and livestock.\n",
    "- Business disruption: Interruptions to services and production.\n",
    "- Emergency response and recovery costs.\n",
    "\n",
    "Tornado category affects economic damage, but location matters more. Higher EF ratings (EF4–EF5) cause the most destruction but are rare. Lower categories like EF2 can cause major losses if they hit populated areas. So, impact depends on both tornado strength and where it strikes.\n",
    "\n",
    " Example:\n",
    "\n",
    "- The Joplin, Missouri tornado (2011) caused over $2.8 billion in damage.\n",
    "- The Moore, Oklahoma tornado (2013): estimated at $2 billion.\n",
    "- Many billion-dollar tornado events involve EF3–EF4 storms.\n",
    "\n",
    "From 1996 to 2023, tornadoes caused an average of $1.1 billion per year in damages in the U.S."
   ]
  },
  {
   "cell_type": "markdown",
   "id": "b25595f5",
   "metadata": {},
   "source": [
    "Sources:\n",
    "1. National Weather Service (NWS). (n.d.). Enhanced Fujita Scale (EF Scale). NOAA.\n",
    "https://www.weather.gov/oun/efscale\n",
    "2. Storm Prediction Center (SPC). (n.d.). The Enhanced Fujita Scale (EF Scale). NOAA.\n",
    "https://www.spc.noaa.gov/faq/tornado/ef-scale.html\n",
    "3. National Centers for Environmental Information (NCEI). (n.d.). Billion-Dollar Weather and Climate Disasters. NOAA.\n",
    "https://www.ncei.noaa.gov/access/billions/\n",
    "4. Federal Emergency Management Agency (FEMA). (n.d.). Tornadoes | Disaster Recovery Resources.\n",
    "https://www.fema.gov/disaster-recovery-resources/tornadoes"
   ]
  },
  {
   "cell_type": "markdown",
   "id": "b8be7888",
   "metadata": {},
   "source": []
  }
 ],
 "metadata": {
  "kernelspec": {
   "display_name": ".venv",
   "language": "python",
   "name": "python3"
  },
  "language_info": {
   "name": "python",
   "version": "3.10.12"
  }
 },
 "nbformat": 4,
 "nbformat_minor": 5
}
